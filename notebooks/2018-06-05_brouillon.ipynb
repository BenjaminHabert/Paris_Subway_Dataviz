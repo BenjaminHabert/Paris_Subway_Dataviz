{
 "cells": [
  {
   "cell_type": "code",
   "execution_count": 1,
   "metadata": {
    "scrolled": false
   },
   "outputs": [],
   "source": [
    "%load_ext autoreload\n",
    "%autoreload 2\n",
    "%matplotlib inline"
   ]
  },
  {
   "cell_type": "code",
   "execution_count": 27,
   "metadata": {},
   "outputs": [],
   "source": [
    "import requests\n",
    "from bs4 import BeautifulSoup\n",
    "import pandas as pd\n",
    "\n",
    "from smallstations import io"
   ]
  },
  {
   "cell_type": "code",
   "execution_count": 28,
   "metadata": {},
   "outputs": [
    {
     "name": "stdout",
     "output_type": "stream",
     "text": [
      ".gitignore\n",
      "/test/df.csv\n"
     ]
    }
   ],
   "source": [
    "io.inventory()"
   ]
  },
  {
   "cell_type": "code",
   "execution_count": 31,
   "metadata": {},
   "outputs": [],
   "source": [
    "stations_url = 'https://fr.wikipedia.org/wiki/Liste_des_stations_du_m%C3%A9tro_de_Paris'\n",
    "res = requests.get(stations_url)\n",
    "soup = BeautifulSoup(res.content,'html5lib')\n",
    "table = soup.find_all('table')[0]"
   ]
  },
  {
   "cell_type": "code",
   "execution_count": 114,
   "metadata": {
    "scrolled": false
   },
   "outputs": [
    {
     "data": {
      "text/html": [
       "<div>\n",
       "<style scoped>\n",
       "    .dataframe tbody tr th:only-of-type {\n",
       "        vertical-align: middle;\n",
       "    }\n",
       "\n",
       "    .dataframe tbody tr th {\n",
       "        vertical-align: top;\n",
       "    }\n",
       "\n",
       "    .dataframe thead th {\n",
       "        text-align: right;\n",
       "    }\n",
       "</style>\n",
       "<table border=\"1\" class=\"dataframe\">\n",
       "  <thead>\n",
       "    <tr style=\"text-align: right;\">\n",
       "      <th></th>\n",
       "      <th>frequentation</th>\n",
       "      <th>line</th>\n",
       "      <th>line_url</th>\n",
       "      <th>station</th>\n",
       "    </tr>\n",
       "  </thead>\n",
       "  <tbody>\n",
       "    <tr>\n",
       "      <th>0</th>\n",
       "      <td>2417881</td>\n",
       "      <td>Ligne 12</td>\n",
       "      <td>https://fr.wikipedia.org/wiki/Ligne_12_du_m%C3...</td>\n",
       "      <td>Abbesses</td>\n",
       "    </tr>\n",
       "    <tr>\n",
       "      <th>1</th>\n",
       "      <td>5124204</td>\n",
       "      <td>Ligne 4</td>\n",
       "      <td>https://fr.wikipedia.org/wiki/Ligne_4_du_m%C3%...</td>\n",
       "      <td>Alésia</td>\n",
       "    </tr>\n",
       "    <tr>\n",
       "      <th>2</th>\n",
       "      <td>3666961</td>\n",
       "      <td>Ligne 2</td>\n",
       "      <td>https://fr.wikipedia.org/wiki/Ligne_2_du_m%C3%...</td>\n",
       "      <td>Alexandre Dumas</td>\n",
       "    </tr>\n",
       "    <tr>\n",
       "      <th>3</th>\n",
       "      <td>4204705</td>\n",
       "      <td>Ligne 9</td>\n",
       "      <td>https://fr.wikipedia.org/wiki/Ligne_9_du_m%C3%...</td>\n",
       "      <td>Alma - Marceau</td>\n",
       "    </tr>\n",
       "    <tr>\n",
       "      <th>4</th>\n",
       "      <td>3780611</td>\n",
       "      <td>Ligne 3</td>\n",
       "      <td>https://fr.wikipedia.org/wiki/Ligne_3_du_m%C3%...</td>\n",
       "      <td>Anatole France</td>\n",
       "    </tr>\n",
       "  </tbody>\n",
       "</table>\n",
       "</div>"
      ],
      "text/plain": [
       "   frequentation      line                                           line_url  \\\n",
       "0        2417881  Ligne 12  https://fr.wikipedia.org/wiki/Ligne_12_du_m%C3...   \n",
       "1        5124204   Ligne 4  https://fr.wikipedia.org/wiki/Ligne_4_du_m%C3%...   \n",
       "2        3666961   Ligne 2  https://fr.wikipedia.org/wiki/Ligne_2_du_m%C3%...   \n",
       "3        4204705   Ligne 9  https://fr.wikipedia.org/wiki/Ligne_9_du_m%C3%...   \n",
       "4        3780611   Ligne 3  https://fr.wikipedia.org/wiki/Ligne_3_du_m%C3%...   \n",
       "\n",
       "           station  \n",
       "0         Abbesses  \n",
       "1           Alésia  \n",
       "2  Alexandre Dumas  \n",
       "3   Alma - Marceau  \n",
       "4   Anatole France  "
      ]
     },
     "execution_count": 114,
     "metadata": {},
     "output_type": "execute_result"
    }
   ],
   "source": [
    "stations = []\n",
    "for i, row in enumerate(table.findAll('tr')):\n",
    "    station = {}\n",
    "    columns = row.findAll('td')\n",
    "    try:\n",
    "        station = columns[0].text.strip().replace('\\u200d', '')\n",
    "        lines_infos = columns[1].findAll('a')\n",
    "        frequentation = int(columns[6].text.strip().replace('\\xa0', '').replace('+0', '').replace(',', ''))\n",
    "    except IndexError:\n",
    "        continue\n",
    "        \n",
    "    for infos in lines_infos:\n",
    "        line_name = infos.attrs['title'].replace('\\xa0', ' ').replace(' du métro de Paris', '')\n",
    "        line_url = 'https://fr.wikipedia.org' + infos.attrs['href']\n",
    "\n",
    "        stations.append({\n",
    "            'station': station,\n",
    "            'frequentation': frequentation,\n",
    "            'line': line_name,\n",
    "            'line_url': line_url,\n",
    "        })\n",
    "        \n",
    "stations = pd.DataFrame.from_records(stations)\n",
    "stations.head()"
   ]
  },
  {
   "cell_type": "code",
   "execution_count": 115,
   "metadata": {},
   "outputs": [
    {
     "data": {
      "text/html": [
       "<div>\n",
       "<style scoped>\n",
       "    .dataframe tbody tr th:only-of-type {\n",
       "        vertical-align: middle;\n",
       "    }\n",
       "\n",
       "    .dataframe tbody tr th {\n",
       "        vertical-align: top;\n",
       "    }\n",
       "\n",
       "    .dataframe thead th {\n",
       "        text-align: right;\n",
       "    }\n",
       "</style>\n",
       "<table border=\"1\" class=\"dataframe\">\n",
       "  <thead>\n",
       "    <tr style=\"text-align: right;\">\n",
       "      <th></th>\n",
       "      <th>index</th>\n",
       "      <th>frequentation</th>\n",
       "      <th>line</th>\n",
       "      <th>line_url</th>\n",
       "      <th>station</th>\n",
       "    </tr>\n",
       "  </thead>\n",
       "  <tbody>\n",
       "    <tr>\n",
       "      <th>0</th>\n",
       "      <td>0</td>\n",
       "      <td>2972019</td>\n",
       "      <td>Ligne 1</td>\n",
       "      <td>https://fr.wikipedia.org/wiki/Ligne_1_du_m%C3%...</td>\n",
       "      <td>Argentine</td>\n",
       "    </tr>\n",
       "    <tr>\n",
       "      <th>1</th>\n",
       "      <td>1</td>\n",
       "      <td>3666961</td>\n",
       "      <td>Ligne 2</td>\n",
       "      <td>https://fr.wikipedia.org/wiki/Ligne_2_du_m%C3%...</td>\n",
       "      <td>Alexandre Dumas</td>\n",
       "    </tr>\n",
       "    <tr>\n",
       "      <th>2</th>\n",
       "      <td>2</td>\n",
       "      <td>3780611</td>\n",
       "      <td>Ligne 3</td>\n",
       "      <td>https://fr.wikipedia.org/wiki/Ligne_3_du_m%C3%...</td>\n",
       "      <td>Anatole France</td>\n",
       "    </tr>\n",
       "    <tr>\n",
       "      <th>3</th>\n",
       "      <td>3</td>\n",
       "      <td>5124204</td>\n",
       "      <td>Ligne 4</td>\n",
       "      <td>https://fr.wikipedia.org/wiki/Ligne_4_du_m%C3%...</td>\n",
       "      <td>Alésia</td>\n",
       "    </tr>\n",
       "    <tr>\n",
       "      <th>4</th>\n",
       "      <td>4</td>\n",
       "      <td>13438906</td>\n",
       "      <td>Ligne 5</td>\n",
       "      <td>https://fr.wikipedia.org/wiki/Ligne_5_du_m%C3%...</td>\n",
       "      <td>Bastille</td>\n",
       "    </tr>\n",
       "    <tr>\n",
       "      <th>5</th>\n",
       "      <td>5</td>\n",
       "      <td>2176466</td>\n",
       "      <td>Ligne 6</td>\n",
       "      <td>https://fr.wikipedia.org/wiki/Ligne_6_du_m%C3%...</td>\n",
       "      <td>Bel-Air</td>\n",
       "    </tr>\n",
       "    <tr>\n",
       "      <th>6</th>\n",
       "      <td>6</td>\n",
       "      <td>7131674</td>\n",
       "      <td>Ligne 7</td>\n",
       "      <td>https://fr.wikipedia.org/wiki/Ligne_7_du_m%C3%...</td>\n",
       "      <td>Aubervilliers - Pantin - Quatre Chemins</td>\n",
       "    </tr>\n",
       "    <tr>\n",
       "      <th>7</th>\n",
       "      <td>7</td>\n",
       "      <td>4454198</td>\n",
       "      <td>Ligne 8</td>\n",
       "      <td>https://fr.wikipedia.org/wiki/Ligne_8_du_m%C3%...</td>\n",
       "      <td>Balard</td>\n",
       "    </tr>\n",
       "    <tr>\n",
       "      <th>8</th>\n",
       "      <td>8</td>\n",
       "      <td>4204705</td>\n",
       "      <td>Ligne 9</td>\n",
       "      <td>https://fr.wikipedia.org/wiki/Ligne_9_du_m%C3%...</td>\n",
       "      <td>Alma - Marceau</td>\n",
       "    </tr>\n",
       "    <tr>\n",
       "      <th>9</th>\n",
       "      <td>9</td>\n",
       "      <td>1470809</td>\n",
       "      <td>Ligne 10</td>\n",
       "      <td>https://fr.wikipedia.org/wiki/Ligne_10_du_m%C3...</td>\n",
       "      <td>Avenue Émile-Zola</td>\n",
       "    </tr>\n",
       "    <tr>\n",
       "      <th>10</th>\n",
       "      <td>10</td>\n",
       "      <td>3908721</td>\n",
       "      <td>Ligne 11</td>\n",
       "      <td>https://fr.wikipedia.org/wiki/Ligne_11_du_m%C3...</td>\n",
       "      <td>Arts et Métiers</td>\n",
       "    </tr>\n",
       "    <tr>\n",
       "      <th>11</th>\n",
       "      <td>11</td>\n",
       "      <td>2417881</td>\n",
       "      <td>Ligne 12</td>\n",
       "      <td>https://fr.wikipedia.org/wiki/Ligne_12_du_m%C3...</td>\n",
       "      <td>Abbesses</td>\n",
       "    </tr>\n",
       "    <tr>\n",
       "      <th>12</th>\n",
       "      <td>12</td>\n",
       "      <td>4782355</td>\n",
       "      <td>Ligne 13</td>\n",
       "      <td>https://fr.wikipedia.org/wiki/Ligne_13_du_m%C3...</td>\n",
       "      <td>Basilique de Saint-Denis</td>\n",
       "    </tr>\n",
       "    <tr>\n",
       "      <th>13</th>\n",
       "      <td>13</td>\n",
       "      <td>5352928</td>\n",
       "      <td>Ligne 14</td>\n",
       "      <td>https://fr.wikipedia.org/wiki/Ligne_14_du_m%C3...</td>\n",
       "      <td>Bercy</td>\n",
       "    </tr>\n",
       "    <tr>\n",
       "      <th>14</th>\n",
       "      <td>14</td>\n",
       "      <td>7142788</td>\n",
       "      <td>Ligne 3bis</td>\n",
       "      <td>https://fr.wikipedia.org/wiki/Ligne_3_bis_du_m...</td>\n",
       "      <td>Gambetta</td>\n",
       "    </tr>\n",
       "    <tr>\n",
       "      <th>15</th>\n",
       "      <td>15</td>\n",
       "      <td>569990</td>\n",
       "      <td>Ligne 7bis</td>\n",
       "      <td>https://fr.wikipedia.org/wiki/Ligne_7_bis_du_m...</td>\n",
       "      <td>Bolivar</td>\n",
       "    </tr>\n",
       "  </tbody>\n",
       "</table>\n",
       "</div>"
      ],
      "text/plain": [
       "    index  frequentation        line  \\\n",
       "0       0        2972019     Ligne 1   \n",
       "1       1        3666961     Ligne 2   \n",
       "2       2        3780611     Ligne 3   \n",
       "3       3        5124204     Ligne 4   \n",
       "4       4       13438906     Ligne 5   \n",
       "5       5        2176466     Ligne 6   \n",
       "6       6        7131674     Ligne 7   \n",
       "7       7        4454198     Ligne 8   \n",
       "8       8        4204705     Ligne 9   \n",
       "9       9        1470809    Ligne 10   \n",
       "10     10        3908721    Ligne 11   \n",
       "11     11        2417881    Ligne 12   \n",
       "12     12        4782355    Ligne 13   \n",
       "13     13        5352928    Ligne 14   \n",
       "14     14        7142788  Ligne 3bis   \n",
       "15     15         569990  Ligne 7bis   \n",
       "\n",
       "                                             line_url  \\\n",
       "0   https://fr.wikipedia.org/wiki/Ligne_1_du_m%C3%...   \n",
       "1   https://fr.wikipedia.org/wiki/Ligne_2_du_m%C3%...   \n",
       "2   https://fr.wikipedia.org/wiki/Ligne_3_du_m%C3%...   \n",
       "3   https://fr.wikipedia.org/wiki/Ligne_4_du_m%C3%...   \n",
       "4   https://fr.wikipedia.org/wiki/Ligne_5_du_m%C3%...   \n",
       "5   https://fr.wikipedia.org/wiki/Ligne_6_du_m%C3%...   \n",
       "6   https://fr.wikipedia.org/wiki/Ligne_7_du_m%C3%...   \n",
       "7   https://fr.wikipedia.org/wiki/Ligne_8_du_m%C3%...   \n",
       "8   https://fr.wikipedia.org/wiki/Ligne_9_du_m%C3%...   \n",
       "9   https://fr.wikipedia.org/wiki/Ligne_10_du_m%C3...   \n",
       "10  https://fr.wikipedia.org/wiki/Ligne_11_du_m%C3...   \n",
       "11  https://fr.wikipedia.org/wiki/Ligne_12_du_m%C3...   \n",
       "12  https://fr.wikipedia.org/wiki/Ligne_13_du_m%C3...   \n",
       "13  https://fr.wikipedia.org/wiki/Ligne_14_du_m%C3...   \n",
       "14  https://fr.wikipedia.org/wiki/Ligne_3_bis_du_m...   \n",
       "15  https://fr.wikipedia.org/wiki/Ligne_7_bis_du_m...   \n",
       "\n",
       "                                    station  \n",
       "0                                 Argentine  \n",
       "1                           Alexandre Dumas  \n",
       "2                            Anatole France  \n",
       "3                                    Alésia  \n",
       "4                                  Bastille  \n",
       "5                                   Bel-Air  \n",
       "6   Aubervilliers - Pantin - Quatre Chemins  \n",
       "7                                    Balard  \n",
       "8                            Alma - Marceau  \n",
       "9                         Avenue Émile-Zola  \n",
       "10                          Arts et Métiers  \n",
       "11                                 Abbesses  \n",
       "12                 Basilique de Saint-Denis  \n",
       "13                                    Bercy  \n",
       "14                                 Gambetta  \n",
       "15                                  Bolivar  "
      ]
     },
     "execution_count": 115,
     "metadata": {},
     "output_type": "execute_result"
    }
   ],
   "source": [
    "lines = stations.drop_duplicates(subset=['line']).copy()\n",
    "lines['n'] = lines['line'].apply(lambda s: len(s))\n",
    "lines.sort_values(by=['n', 'line']).reset_index(drop=True).drop('n', axis=1).reset_index()"
   ]
  },
  {
   "cell_type": "code",
   "execution_count": 60,
   "metadata": {},
   "outputs": [
    {
     "data": {
      "text/plain": [
       "<a href=\"/wiki/Ligne_12_du_m%C3%A9tro_de_Paris\" title=\"Ligne 12 du métro de Paris\"><img alt=\"(12)\" data-file-height=\"92\" data-file-width=\"92\" height=\"16\" src=\"//upload.wikimedia.org/wikipedia/commons/thumb/f/fc/Paris_m_12_jms.svg/16px-Paris_m_12_jms.svg.png\" srcset=\"//upload.wikimedia.org/wikipedia/commons/thumb/f/fc/Paris_m_12_jms.svg/24px-Paris_m_12_jms.svg.png 1.5x, //upload.wikimedia.org/wikipedia/commons/thumb/f/fc/Paris_m_12_jms.svg/32px-Paris_m_12_jms.svg.png 2x\" width=\"16\"/></a>"
      ]
     },
     "execution_count": 60,
     "metadata": {},
     "output_type": "execute_result"
    }
   ],
   "source": [
    "raw = stations[1]['lignes'][0]['row']\n",
    "raw"
   ]
  },
  {
   "cell_type": "code",
   "execution_count": 63,
   "metadata": {},
   "outputs": [
    {
     "data": {
      "text/plain": [
       "'/wiki/Ligne_12_du_m%C3%A9tro_de_Paris'"
      ]
     },
     "execution_count": 63,
     "metadata": {},
     "output_type": "execute_result"
    }
   ],
   "source": [
    "raw.attrs['href']"
   ]
  },
  {
   "cell_type": "code",
   "execution_count": 41,
   "metadata": {},
   "outputs": [
    {
     "name": "stdout",
     "output_type": "stream",
     "text": [
      "<table class=\"wikitable sortable center\">\n",
      "<tbody><tr>\n",
      "<th scope=\"col\">Station</th>\n",
      "<th scope=\"col\">Ligne(s)</th>\n",
      "<th scope=\"col\">Rang alpha-<br/>\n",
      "bétique</th>\n",
      "<th scope=\"col\">Date d'ouverture</th>\n",
      "<th scope=\"col\">Situation</th>\n",
      "<th scope=\"col\">Commune</th>\n",
      "<th scope=\"col\">Fréquentation annuelle 2015<sup class=\"reference\" id=\"cite_ref-2\"><a href=\"#cite_note-2\"><span class=\"cite_crochet\">[</span>2<span class=\"cite_crochet\">]</span></a></sup></th>\n",
      "<th scope=\"col\">Correspondance</th>\n",
      "<th scope=\"col\">Particularité<br/>\n",
      "(<a href=\"/wiki/Liste_des_stations_du_m%C3%A9tro_parisien_ayant_chang%C3%A9_de_nom\" title=\"Liste des stations du métro parisien ayant changé de nom\">précédent nom</a>)</th>\n",
      "<th class=\"unsortable\" scope=\"col\">Image</th>\n",
      "</tr>\n",
      "<tr>\n",
      "<td><a href=\"/wiki/Abbesses_(m%C3%A9tro_de_Paris)\" title=\"Abbesses (métro de Paris)\">Abbesses</a></td>\n",
      "<td align=\"center\"><span style=\"white-space:nowrap\"><span data-sort-value=\"12!\" style=\"display:none;\">‍</span><a href=\"/wiki/Ligne_12_du_m%C3%A9tro_de_Paris\" title=\"Ligne 12 du métro de Paris\"><img alt=\"(12)\" data-file-height=\"92\" data-file-width=\"92\" height=\"16\" src=\"//upload.wikimedia.org/wikipedia/commons/thumb/f/fc/Paris_m_12_jms.svg/16px-Paris_m_12_jms.svg.png\" srcset=\"//upload.wikimedia.org/wikipedia/commons/thumb/f/fc/Paris_m_12_jms.svg/24px-Paris_m_12_jms.svg.png 1.5x, //upload.wikimedia.org/wikipedia/commons/thumb/f/fc/Paris_m_12_jms.svg/32px-Paris_m_12_jms.svg.png 2x\" width=\"16\"/></a></span></td>\n",
      "<td align=\"center\">1</td>\n",
      "<td align=\"right\"><span data-sort-value=\"19121031!\" style=\"display:none;\">‍</span>31 octobre 1912</td>\n",
      "<td>Souterraine</td>\n",
      "<td><a href=\"/wiki/18e_arrondissement_de_Paris\" title=\"18e arrondissement de Paris\">Paris <abbr class=\"abbr\" title=\"Dix-huitième\">18<sup>e</sup></abbr></a></td>\n",
      "<td>\n",
      "<bdi class=\"datasortkey\" data-sort-value=\"$50002417881\" style=\"white-space:nowrap;-webkit-font-feature-settings:'tnum';-moz-font-feature-settings:'tnum';-o-font-feature-settings:'tnum';font-variant:tabular-nums\"><s st\n"
     ]
    }
   ],
   "source": [
    "print(str(table)[:2000])"
   ]
  },
  {
   "cell_type": "code",
   "execution_count": 38,
   "metadata": {
    "scrolled": false
   },
   "outputs": [
    {
     "ename": "TypeError",
     "evalue": "'NoneType' object is not callable",
     "output_type": "error",
     "traceback": [
      "\u001b[0;31m---------------------------------------------------------------------------\u001b[0m",
      "\u001b[0;31mTypeError\u001b[0m                                 Traceback (most recent call last)",
      "\u001b[0;32m~/Documents/RATP_Dataviz/.venv/lib/python3.6/site-packages/pandas/io/html.py\u001b[0m in \u001b[0;36m_parse\u001b[0;34m(flavor, io, match, attrs, encoding, displayed_only, **kwargs)\u001b[0m\n\u001b[1;32m    796\u001b[0m         \u001b[0;32mtry\u001b[0m\u001b[0;34m:\u001b[0m\u001b[0;34m\u001b[0m\u001b[0m\n\u001b[0;32m--> 797\u001b[0;31m             \u001b[0mtables\u001b[0m \u001b[0;34m=\u001b[0m \u001b[0mp\u001b[0m\u001b[0;34m.\u001b[0m\u001b[0mparse_tables\u001b[0m\u001b[0;34m(\u001b[0m\u001b[0;34m)\u001b[0m\u001b[0;34m\u001b[0m\u001b[0m\n\u001b[0m\u001b[1;32m    798\u001b[0m         \u001b[0;32mexcept\u001b[0m \u001b[0mException\u001b[0m \u001b[0;32mas\u001b[0m \u001b[0mcaught\u001b[0m\u001b[0;34m:\u001b[0m\u001b[0;34m\u001b[0m\u001b[0m\n",
      "\u001b[0;32m~/Documents/RATP_Dataviz/.venv/lib/python3.6/site-packages/pandas/io/html.py\u001b[0m in \u001b[0;36mparse_tables\u001b[0;34m(self)\u001b[0m\n\u001b[1;32m    212\u001b[0m     \u001b[0;32mdef\u001b[0m \u001b[0mparse_tables\u001b[0m\u001b[0;34m(\u001b[0m\u001b[0mself\u001b[0m\u001b[0;34m)\u001b[0m\u001b[0;34m:\u001b[0m\u001b[0;34m\u001b[0m\u001b[0m\n\u001b[0;32m--> 213\u001b[0;31m         \u001b[0mtables\u001b[0m \u001b[0;34m=\u001b[0m \u001b[0mself\u001b[0m\u001b[0;34m.\u001b[0m\u001b[0m_parse_tables\u001b[0m\u001b[0;34m(\u001b[0m\u001b[0mself\u001b[0m\u001b[0;34m.\u001b[0m\u001b[0m_build_doc\u001b[0m\u001b[0;34m(\u001b[0m\u001b[0;34m)\u001b[0m\u001b[0;34m,\u001b[0m \u001b[0mself\u001b[0m\u001b[0;34m.\u001b[0m\u001b[0mmatch\u001b[0m\u001b[0;34m,\u001b[0m \u001b[0mself\u001b[0m\u001b[0;34m.\u001b[0m\u001b[0mattrs\u001b[0m\u001b[0;34m)\u001b[0m\u001b[0;34m\u001b[0m\u001b[0m\n\u001b[0m\u001b[1;32m    214\u001b[0m         \u001b[0;32mreturn\u001b[0m \u001b[0;34m(\u001b[0m\u001b[0mself\u001b[0m\u001b[0;34m.\u001b[0m\u001b[0m_build_table\u001b[0m\u001b[0;34m(\u001b[0m\u001b[0mtable\u001b[0m\u001b[0;34m)\u001b[0m \u001b[0;32mfor\u001b[0m \u001b[0mtable\u001b[0m \u001b[0;32min\u001b[0m \u001b[0mtables\u001b[0m\u001b[0;34m)\u001b[0m\u001b[0;34m\u001b[0m\u001b[0m\n",
      "\u001b[0;32m~/Documents/RATP_Dataviz/.venv/lib/python3.6/site-packages/pandas/io/html.py\u001b[0m in \u001b[0;36m_build_doc\u001b[0;34m(self)\u001b[0m\n\u001b[1;32m    501\u001b[0m         \u001b[0;32mfrom\u001b[0m \u001b[0mbs4\u001b[0m \u001b[0;32mimport\u001b[0m \u001b[0mBeautifulSoup\u001b[0m\u001b[0;34m\u001b[0m\u001b[0m\n\u001b[0;32m--> 502\u001b[0;31m         return BeautifulSoup(self._setup_build_doc(), features='html5lib',\n\u001b[0m\u001b[1;32m    503\u001b[0m                              from_encoding=self.encoding)\n",
      "\u001b[0;32m~/Documents/RATP_Dataviz/.venv/lib/python3.6/site-packages/pandas/io/html.py\u001b[0m in \u001b[0;36m_setup_build_doc\u001b[0;34m(self)\u001b[0m\n\u001b[1;32m    493\u001b[0m     \u001b[0;32mdef\u001b[0m \u001b[0m_setup_build_doc\u001b[0m\u001b[0;34m(\u001b[0m\u001b[0mself\u001b[0m\u001b[0;34m)\u001b[0m\u001b[0;34m:\u001b[0m\u001b[0;34m\u001b[0m\u001b[0m\n\u001b[0;32m--> 494\u001b[0;31m         \u001b[0mraw_text\u001b[0m \u001b[0;34m=\u001b[0m \u001b[0m_read\u001b[0m\u001b[0;34m(\u001b[0m\u001b[0mself\u001b[0m\u001b[0;34m.\u001b[0m\u001b[0mio\u001b[0m\u001b[0;34m)\u001b[0m\u001b[0;34m\u001b[0m\u001b[0m\n\u001b[0m\u001b[1;32m    495\u001b[0m         \u001b[0;32mif\u001b[0m \u001b[0;32mnot\u001b[0m \u001b[0mraw_text\u001b[0m\u001b[0;34m:\u001b[0m\u001b[0;34m\u001b[0m\u001b[0m\n",
      "\u001b[0;32m~/Documents/RATP_Dataviz/.venv/lib/python3.6/site-packages/pandas/io/html.py\u001b[0m in \u001b[0;36m_read\u001b[0;34m(obj)\u001b[0m\n\u001b[1;32m    132\u001b[0m     \u001b[0;32melif\u001b[0m \u001b[0mhasattr\u001b[0m\u001b[0;34m(\u001b[0m\u001b[0mobj\u001b[0m\u001b[0;34m,\u001b[0m \u001b[0;34m'read'\u001b[0m\u001b[0;34m)\u001b[0m\u001b[0;34m:\u001b[0m\u001b[0;34m\u001b[0m\u001b[0m\n\u001b[0;32m--> 133\u001b[0;31m         \u001b[0mtext\u001b[0m \u001b[0;34m=\u001b[0m \u001b[0mobj\u001b[0m\u001b[0;34m.\u001b[0m\u001b[0mread\u001b[0m\u001b[0;34m(\u001b[0m\u001b[0;34m)\u001b[0m\u001b[0;34m\u001b[0m\u001b[0m\n\u001b[0m\u001b[1;32m    134\u001b[0m     \u001b[0;32melif\u001b[0m \u001b[0misinstance\u001b[0m\u001b[0;34m(\u001b[0m\u001b[0mobj\u001b[0m\u001b[0;34m,\u001b[0m \u001b[0mchar_types\u001b[0m\u001b[0;34m)\u001b[0m\u001b[0;34m:\u001b[0m\u001b[0;34m\u001b[0m\u001b[0m\n",
      "\u001b[0;31mTypeError\u001b[0m: 'NoneType' object is not callable",
      "\nDuring handling of the above exception, another exception occurred:\n",
      "\u001b[0;31mTypeError\u001b[0m                                 Traceback (most recent call last)",
      "\u001b[0;32m<ipython-input-38-1580dd73cfd1>\u001b[0m in \u001b[0;36m<module>\u001b[0;34m()\u001b[0m\n\u001b[0;32m----> 1\u001b[0;31m \u001b[0mdf\u001b[0m \u001b[0;34m=\u001b[0m \u001b[0mpd\u001b[0m\u001b[0;34m.\u001b[0m\u001b[0mread_html\u001b[0m\u001b[0;34m(\u001b[0m\u001b[0mtable\u001b[0m\u001b[0;34m,\u001b[0m \u001b[0mflavor\u001b[0m\u001b[0;34m=\u001b[0m\u001b[0;34m'html5lib'\u001b[0m\u001b[0;34m)\u001b[0m\u001b[0;34m[\u001b[0m\u001b[0;36m0\u001b[0m\u001b[0;34m]\u001b[0m\u001b[0;34m\u001b[0m\u001b[0m\n\u001b[0m\u001b[1;32m      2\u001b[0m \u001b[0;32mdef\u001b[0m \u001b[0mclean_str\u001b[0m\u001b[0;34m(\u001b[0m\u001b[0ms\u001b[0m\u001b[0;34m)\u001b[0m\u001b[0;34m:\u001b[0m\u001b[0;34m\u001b[0m\u001b[0m\n\u001b[1;32m      3\u001b[0m     \u001b[0;32mreturn\u001b[0m \u001b[0ms\u001b[0m\u001b[0;34m.\u001b[0m\u001b[0mlower\u001b[0m\u001b[0;34m(\u001b[0m\u001b[0;34m)\u001b[0m\u001b[0;34m.\u001b[0m\u001b[0mreplace\u001b[0m\u001b[0;34m(\u001b[0m\u001b[0;34m' '\u001b[0m\u001b[0;34m,\u001b[0m \u001b[0;34m''\u001b[0m\u001b[0;34m)\u001b[0m\u001b[0;34m\u001b[0m\u001b[0m\n\u001b[1;32m      4\u001b[0m \u001b[0;34m\u001b[0m\u001b[0m\n\u001b[1;32m      5\u001b[0m \u001b[0mdf\u001b[0m\u001b[0;34m.\u001b[0m\u001b[0mcolumns\u001b[0m \u001b[0;34m=\u001b[0m \u001b[0mdf\u001b[0m\u001b[0;34m.\u001b[0m\u001b[0miloc\u001b[0m\u001b[0;34m[\u001b[0m\u001b[0;36m0\u001b[0m\u001b[0;34m]\u001b[0m\u001b[0;34m.\u001b[0m\u001b[0mapply\u001b[0m\u001b[0;34m(\u001b[0m\u001b[0;32mlambda\u001b[0m \u001b[0ms\u001b[0m\u001b[0;34m:\u001b[0m \u001b[0mclean_str\u001b[0m\u001b[0;34m(\u001b[0m\u001b[0ms\u001b[0m\u001b[0;34m)\u001b[0m\u001b[0;34m)\u001b[0m\u001b[0;34m\u001b[0m\u001b[0m\n",
      "\u001b[0;32m~/Documents/RATP_Dataviz/.venv/lib/python3.6/site-packages/pandas/io/html.py\u001b[0m in \u001b[0;36mread_html\u001b[0;34m(io, match, flavor, header, index_col, skiprows, attrs, parse_dates, tupleize_cols, thousands, encoding, decimal, converters, na_values, keep_default_na, displayed_only)\u001b[0m\n\u001b[1;32m    985\u001b[0m                   \u001b[0mdecimal\u001b[0m\u001b[0;34m=\u001b[0m\u001b[0mdecimal\u001b[0m\u001b[0;34m,\u001b[0m \u001b[0mconverters\u001b[0m\u001b[0;34m=\u001b[0m\u001b[0mconverters\u001b[0m\u001b[0;34m,\u001b[0m \u001b[0mna_values\u001b[0m\u001b[0;34m=\u001b[0m\u001b[0mna_values\u001b[0m\u001b[0;34m,\u001b[0m\u001b[0;34m\u001b[0m\u001b[0m\n\u001b[1;32m    986\u001b[0m                   \u001b[0mkeep_default_na\u001b[0m\u001b[0;34m=\u001b[0m\u001b[0mkeep_default_na\u001b[0m\u001b[0;34m,\u001b[0m\u001b[0;34m\u001b[0m\u001b[0m\n\u001b[0;32m--> 987\u001b[0;31m                   displayed_only=displayed_only)\n\u001b[0m",
      "\u001b[0;32m~/Documents/RATP_Dataviz/.venv/lib/python3.6/site-packages/pandas/io/html.py\u001b[0m in \u001b[0;36m_parse\u001b[0;34m(flavor, io, match, attrs, encoding, displayed_only, **kwargs)\u001b[0m\n\u001b[1;32m    799\u001b[0m             \u001b[0;31m# if `io` is an io-like object, check if it's seekable\u001b[0m\u001b[0;34m\u001b[0m\u001b[0;34m\u001b[0m\u001b[0m\n\u001b[1;32m    800\u001b[0m             \u001b[0;31m# and try to rewind it before trying the next parser\u001b[0m\u001b[0;34m\u001b[0m\u001b[0;34m\u001b[0m\u001b[0m\n\u001b[0;32m--> 801\u001b[0;31m             \u001b[0;32mif\u001b[0m \u001b[0mhasattr\u001b[0m\u001b[0;34m(\u001b[0m\u001b[0mio\u001b[0m\u001b[0;34m,\u001b[0m \u001b[0;34m'seekable'\u001b[0m\u001b[0;34m)\u001b[0m \u001b[0;32mand\u001b[0m \u001b[0mio\u001b[0m\u001b[0;34m.\u001b[0m\u001b[0mseekable\u001b[0m\u001b[0;34m(\u001b[0m\u001b[0;34m)\u001b[0m\u001b[0;34m:\u001b[0m\u001b[0;34m\u001b[0m\u001b[0m\n\u001b[0m\u001b[1;32m    802\u001b[0m                 \u001b[0mio\u001b[0m\u001b[0;34m.\u001b[0m\u001b[0mseek\u001b[0m\u001b[0;34m(\u001b[0m\u001b[0;36m0\u001b[0m\u001b[0;34m)\u001b[0m\u001b[0;34m\u001b[0m\u001b[0m\n\u001b[1;32m    803\u001b[0m             \u001b[0;32melif\u001b[0m \u001b[0mhasattr\u001b[0m\u001b[0;34m(\u001b[0m\u001b[0mio\u001b[0m\u001b[0;34m,\u001b[0m \u001b[0;34m'seekable'\u001b[0m\u001b[0;34m)\u001b[0m \u001b[0;32mand\u001b[0m \u001b[0;32mnot\u001b[0m \u001b[0mio\u001b[0m\u001b[0;34m.\u001b[0m\u001b[0mseekable\u001b[0m\u001b[0;34m(\u001b[0m\u001b[0;34m)\u001b[0m\u001b[0;34m:\u001b[0m\u001b[0;34m\u001b[0m\u001b[0m\n",
      "\u001b[0;31mTypeError\u001b[0m: 'NoneType' object is not callable"
     ]
    }
   ],
   "source": [
    "df = pd.read_html(str(table), flavor='html5lib')[0]\n",
    "def clean_str(s):\n",
    "    return s.lower().replace(' ', '')\n",
    "\n",
    "df.columns = df.iloc[0].apply(lambda s: clean_str(s))\n",
    "df.drop(0, inplace=True)\n",
    "df.head()"
   ]
  },
  {
   "cell_type": "code",
   "execution_count": null,
   "metadata": {},
   "outputs": [],
   "source": []
  }
 ],
 "metadata": {
  "kernelspec": {
   "display_name": "Python 3",
   "language": "python",
   "name": "python3"
  },
  "language_info": {
   "codemirror_mode": {
    "name": "ipython",
    "version": 3
   },
   "file_extension": ".py",
   "mimetype": "text/x-python",
   "name": "python",
   "nbconvert_exporter": "python",
   "pygments_lexer": "ipython3",
   "version": "3.6.5"
  }
 },
 "nbformat": 4,
 "nbformat_minor": 2
}
